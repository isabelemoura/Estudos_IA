{
  "nbformat": 4,
  "nbformat_minor": 0,
  "metadata": {
    "colab": {
      "provenance": [],
      "include_colab_link": true
    },
    "kernelspec": {
      "name": "python3",
      "display_name": "Python 3"
    },
    "language_info": {
      "name": "python"
    }
  },
  "cells": [
    {
      "cell_type": "markdown",
      "metadata": {
        "id": "view-in-github",
        "colab_type": "text"
      },
      "source": [
        "<a href=\"https://colab.research.google.com/github/isabelemoura/Estudos_IA/blob/main/Atividade_de_RNA_N2_v2.ipynb\" target=\"_parent\"><img src=\"https://colab.research.google.com/assets/colab-badge.svg\" alt=\"Open In Colab\"/></a>"
      ]
    },
    {
      "cell_type": "code",
      "execution_count": 3,
      "metadata": {
        "colab": {
          "base_uri": "https://localhost:8080/"
        },
        "id": "ge--kuSebqPe",
        "outputId": "3952e7cf-6f8e-49c3-c74a-40ed7a3f885c"
      },
      "outputs": [
        {
          "name": "stdout",
          "output_type": "stream",
          "text": [
            "Digite x1 para o par 1: 20\n",
            "Digite x2 para o par 1: 10\n",
            "Digite x3 para o par 1: 10\n",
            "Digite o valor esperado y para o par 1: 0\n",
            "Digite x1 para o par 2: 40\n",
            "Digite x2 para o par 2: 30\n",
            "Digite x3 para o par 2: 20\n",
            "Digite o valor esperado y para o par 2: 1\n",
            "Digite x1 para o par 3: -20\n",
            "Digite x2 para o par 3: 10\n",
            "Digite x3 para o par 3: 30\n",
            "Digite o valor esperado y para o par 3: 1\n",
            "Usar bias? (sim/nao): sim\n",
            "Digite a taxa de aprendizagem: 0.3\n",
            "\n",
            "Histórico de Pesos:\n",
            "     Peso 0     Peso 1    Peso 2    Peso 3\n",
            "0   0.63474   0.183399  0.432606  0.934007\n",
            "1   6.63474   6.183399  3.432606  0.934007\n",
            "2   0.63474   3.183399  0.432606  0.634007\n",
            "3   6.63474   9.183399  3.432606  0.634007\n",
            "4   0.63474   6.183399  0.432606  0.334007\n",
            "5   6.63474  12.183399  3.432606  0.334007\n",
            "6   0.63474   9.183399  0.432606  0.034007\n",
            "7   6.63474  15.183399  3.432606  0.034007\n",
            "8   0.63474  12.183399  0.432606 -0.265993\n",
            "9  -5.36526   9.183399 -2.567394 -0.565993\n",
            "10 -5.36526   9.183399 -2.567394 -0.565993\n",
            "\n",
            "Pesos após o treinamento: [-5.36526041  9.18339923 -2.5673936  -0.56599296]\n",
            "Número de iterações: 10\n",
            "\n",
            "Digite novos valores de teste (separados por vírgula) ou 'sair' para finalizar: sair\n"
          ]
        }
      ],
      "source": [
        "import numpy as np\n",
        "import pandas as pd\n",
        "\n",
        "def funcao_degrau(x):\n",
        "    return 1 if x >= 0 else 0\n",
        "\n",
        "def treinar_perceptron(X, y, taxa_aprendizagem, usar_bias=True, max_iteracoes=1000):\n",
        "    num_features = X.shape[1]\n",
        "    pesos = np.random.rand(num_features + int(usar_bias))\n",
        "    historico_pesos = [pesos.copy()]\n",
        "    iteracoes = 0\n",
        "\n",
        "    while iteracoes < max_iteracoes:\n",
        "        erro_global = 0\n",
        "        for xi, target in zip(X, y):\n",
        "            if usar_bias:\n",
        "                xi = np.append(xi, 1)\n",
        "            entrada_liquida = np.dot(xi, pesos)\n",
        "            saida = funcao_degrau(entrada_liquida)\n",
        "            erro = target - saida\n",
        "            pesos += taxa_aprendizagem * erro * xi\n",
        "            erro_global += abs(erro)\n",
        "\n",
        "        historico_pesos.append(pesos.copy())\n",
        "        iteracoes += 1\n",
        "\n",
        "        if erro_global == 0:\n",
        "            break\n",
        "\n",
        "    return pesos, iteracoes, historico_pesos\n",
        "\n",
        "def testar_perceptron(pesos, X, usar_bias=True):\n",
        "    resultados = []\n",
        "    for xi in X:\n",
        "        if usar_bias:\n",
        "            xi = np.append(xi, 1)\n",
        "        entrada_liquida = np.dot(xi, pesos)\n",
        "        saida = funcao_degrau(entrada_liquida)\n",
        "        resultados.append(saida)\n",
        "    return resultados\n",
        "\n",
        "def main():\n",
        "    X = []\n",
        "    y = []\n",
        "    for i in range(3):\n",
        "        x1 = float(input(f\"Digite x1 para o par {i+1}: \"))\n",
        "        x2 = float(input(f\"Digite x2 para o par {i+1}: \"))\n",
        "        x3 = float(input(f\"Digite x3 para o par {i+1}: \"))\n",
        "        X.append([x1, x2, x3])\n",
        "        yk = int(input(f\"Digite o valor esperado y para o par {i+1}: \"))\n",
        "        y.append(yk)\n",
        "\n",
        "    usar_bias = input(\"Usar bias? (sim/nao): \").strip().lower() == \"sim\"\n",
        "    taxa_aprendizagem = float(input(\"Digite a taxa de aprendizagem: \"))\n",
        "\n",
        "    X = np.array(X)\n",
        "    y = np.array(y)\n",
        "\n",
        "    pesos, iteracoes, historico_pesos = treinar_perceptron(X, y, taxa_aprendizagem, usar_bias)\n",
        "\n",
        "    df_pesos = pd.DataFrame(historico_pesos, columns=[f\"Peso {i}\" for i in range(len(pesos))])\n",
        "    print(\"\\nHistórico de Pesos:\")\n",
        "    print(df_pesos)\n",
        "\n",
        "    print(f\"\\nPesos após o treinamento: {pesos}\")\n",
        "    print(f\"Número de iterações: {iteracoes}\")\n",
        "\n",
        "    while True:\n",
        "        teste_entrada = input(\"\\nDigite novos valores de teste (separados por vírgula) ou 'sair' para finalizar: \").strip()\n",
        "        if teste_entrada.lower() == 'sair':\n",
        "            break\n",
        "        try:\n",
        "            valores_teste = np.array([float(val) for val in teste_entrada.split(',')])\n",
        "            if len(valores_teste) != 3:\n",
        "                print(\"Por favor, insira exatamente 3 valores.\")\n",
        "                continue\n",
        "            resultado = testar_perceptron(pesos, [valores_teste], usar_bias)\n",
        "            print(f\"Saída para {valores_teste} é: {resultado[0]}\")\n",
        "        except ValueError:\n",
        "            print(\"Por favor, insira valores numéricos válidos.\")\n",
        "\n",
        "if __name__ == \"__main__\":\n",
        "    main()\n"
      ]
    }
  ]
}