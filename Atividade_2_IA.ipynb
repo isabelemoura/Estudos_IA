{
  "nbformat": 4,
  "nbformat_minor": 0,
  "metadata": {
    "colab": {
      "provenance": []
    },
    "kernelspec": {
      "name": "python3",
      "display_name": "Python 3"
    },
    "language_info": {
      "name": "python"
    }
  },
  "cells": [
    {
      "cell_type": "code",
      "execution_count": 3,
      "metadata": {
        "colab": {
          "base_uri": "https://localhost:8080/"
        },
        "id": "XI9Kdnw4JQGm",
        "outputId": "69240b17-f203-47a2-8eb2-168d7a2c5e86"
      },
      "outputs": [
        {
          "output_type": "stream",
          "name": "stdout",
          "text": [
            "Digite a cidade de origem: Piracicaba\n",
            "Digite a cidade de destino: Porto Feliz\n",
            "Escolha o algoritmo de busca (BFS ou DFS): dfs\n",
            "Caminho encontrado: Piracicaba -> Americana -> Sumaré -> Campinas -> Indaiatuba -> Salto -> Itu -> Sorocaba -> Tiete -> Porto Feliz\n",
            "Distância total percorrida: 189\n"
          ]
        }
      ],
      "source": [
        "from collections import defaultdict, deque\n",
        "\n",
        "class Graph:\n",
        "    def __init__(self):\n",
        "        # Inicializa o grafo como um dicionário padrão de listas vazias\n",
        "        self.graph = defaultdict(list)\n",
        "\n",
        "    def add_edge(self, u, v, weight=None):\n",
        "        # Adiciona uma aresta entre os vértices u e v, opcionalmente com um peso\n",
        "        self.graph[u].append((v, weight))\n",
        "        self.graph[v].append((u, weight))  # Para um grafo não direcionado\n",
        "\n",
        "    def bfs(self, start, goal):\n",
        "        # Realiza uma busca em largura a partir do vértice de início até o objetivo\n",
        "        queue = deque([(start, [start])])  # Inicializa a fila com o vértice de início e seu caminho\n",
        "        visited = set([start])  # Inicializa o conjunto de vértices visitados\n",
        "\n",
        "        while queue:\n",
        "            vertex, path = queue.popleft()  # Retira o primeiro elemento da fila\n",
        "            if vertex == goal:\n",
        "                return path  # Retorna o caminho se o objetivo for encontrado\n",
        "            for neighbour, _ in self.graph[vertex]:\n",
        "                if neighbour not in visited:\n",
        "                    visited.add(neighbour)\n",
        "                    queue.append((neighbour, path + [neighbour]))  # Adiciona o vizinho à fila\n",
        "\n",
        "    def dfs_util(self, v, visited, path, goal):\n",
        "        # Função utilitária para a busca em profundidade recursiva\n",
        "        visited.add(v)\n",
        "        path.append(v)\n",
        "        if v == goal:\n",
        "            return True  # Retorna True se o objetivo for encontrado\n",
        "        for neighbour, _ in self.graph[v]:\n",
        "            if neighbour not in visited:\n",
        "                if self.dfs_util(neighbour, visited, path, goal):\n",
        "                    return True  # Retorna True se o objetivo for encontrado\n",
        "        path.pop()  # Desfaz a última adição ao caminho se o objetivo não for encontrado\n",
        "        return False\n",
        "\n",
        "    def dfs(self, start, goal):\n",
        "        # Realiza uma busca em profundidade a partir do vértice de início até o objetivo\n",
        "        visited = set()\n",
        "        path = []\n",
        "        self.dfs_util(start, visited, path, goal)\n",
        "        return path\n",
        "\n",
        "    def calculate_distance(self, path):\n",
        "        # Calcula a distância total percorrida ao longo do caminho\n",
        "        distance = 0\n",
        "        for i in range(len(path) - 1):\n",
        "            for v, w in self.graph[path[i]]:\n",
        "                if v == path[i + 1]:\n",
        "                    distance += w\n",
        "                    break  # Parar o loop quando encontrada a aresta\n",
        "        return distance if distance > 0 else \"Não foi possível encontrar um caminho válido\"\n",
        "\n",
        "if __name__ == \"__main__\":\n",
        "    g = Graph()\n",
        "\n",
        "    # Adiciona as arestas entre as cidades com os respectivos pesos\n",
        "    g.add_edge(\"Piracicaba\", \"Americana\", 30)\n",
        "    g.add_edge(\"Piracicaba\", \"Capivari\", 32)\n",
        "    g.add_edge(\"Piracicaba\", \"Tiete\", 35)\n",
        "    g.add_edge(\"Americana\", \"Sumaré\", 18)\n",
        "    g.add_edge(\"Sumaré\", \"Campinas\", 23)\n",
        "    g.add_edge(\"Campinas\", \"Indaiatuba\", 20)\n",
        "    g.add_edge(\"Indaiatuba\", \"Salto\", 20)\n",
        "    g.add_edge(\"Salto\", \"Itu\", 10)\n",
        "    g.add_edge(\"Itu\", \"Sorocaba\", 8)\n",
        "    g.add_edge(\"Sorocaba\", \"Tiete\", 30)\n",
        "    g.add_edge(\"Tiete\", \"Porto Feliz\", 30)\n",
        "    g.add_edge(\"Tiete\", \"Tatui\", 25)\n",
        "    g.add_edge(\"Tatui\", \"Boituva\", 17)\n",
        "    # Adiciona mais arestas...\n",
        "\n",
        "    # Solicita ao usuário a cidade de origem, a cidade de destino e o algoritmo de busca a ser utilizado\n",
        "    origem = input(\"Digite a cidade de origem: \").strip()\n",
        "    destino = input(\"Digite a cidade de destino: \").strip()\n",
        "    algoritmo = input(\"Escolha o algoritmo de busca (BFS ou DFS): \").strip().lower()\n",
        "\n",
        "    # Executa o algoritmo de busca escolhido\n",
        "    if algoritmo == \"bfs\":\n",
        "        path = g.bfs(origem, destino)\n",
        "    elif algoritmo == \"dfs\":\n",
        "        path = g.dfs(origem, destino)\n",
        "    else:\n",
        "        print(\"Algoritmo de busca inválido. Por favor, escolha entre BFS ou DFS.\")\n",
        "        exit(1)\n",
        "\n",
        "    # Imprime o caminho encontrado e a distância total percorrida, se houver\n",
        "    if path:\n",
        "        print(\"Caminho encontrado:\", \" -> \".join(path))\n",
        "        print(\"Distância total percorrida:\", g.calculate_distance(path))\n",
        "    else:\n",
        "        print(\"Não foi possível encontrar um caminho de {} até {}\".format(origem, destino))\n"
      ]
    }
  ]
}