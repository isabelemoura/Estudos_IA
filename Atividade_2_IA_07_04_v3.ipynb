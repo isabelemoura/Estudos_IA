{
  "nbformat": 4,
  "nbformat_minor": 0,
  "metadata": {
    "colab": {
      "provenance": []
    },
    "kernelspec": {
      "name": "python3",
      "display_name": "Python 3"
    },
    "language_info": {
      "name": "python"
    }
  },
  "cells": [
    {
      "cell_type": "code",
      "execution_count": 5,
      "metadata": {
        "colab": {
          "base_uri": "https://localhost:8080/"
        },
        "id": "XI9Kdnw4JQGm",
        "outputId": "21730658-1ff5-46a2-8308-4bf25f88a2a6"
      },
      "outputs": [
        {
          "output_type": "stream",
          "name": "stdout",
          "text": [
            "Digite a cidade de origem: Piracicaba\n",
            "Digite a cidade de destino: Porto Feliz\n",
            "Escolha o algoritmo de busca (BFS ou DFS): dfs\n",
            "Caminho encontrado: Piracicaba -> Americana -> Sumaré -> Campinas -> Indaiatuba -> Salto -> Itu -> Sorocaba -> Tiete -> Porto Feliz\n",
            "Distância total percorrida: 189\n"
          ]
        }
      ],
      "source": [
        "from collections import defaultdict, deque\n",
        "\n",
        "class Graph:\n",
        "    def __init__(self):\n",
        "        self.graph = defaultdict(list)\n",
        "\n",
        "    def add_edge(self, u, v, weight=None):\n",
        "        self.graph[u].append((v, weight))\n",
        "        self.graph[v].append((u, weight))  # Para um grafo não direcionado\n",
        "\n",
        "    def bfs(self, start, goal):\n",
        "        queue = deque([(start, [start])])\n",
        "        visited = set([start])\n",
        "\n",
        "        while queue:\n",
        "            vertex, path = queue.popleft()\n",
        "            if vertex == goal:\n",
        "                return path\n",
        "            for neighbour, _ in self.graph[vertex]:\n",
        "                if neighbour not in visited:\n",
        "                    visited.add(neighbour)\n",
        "                    queue.append((neighbour, path + [neighbour]))\n",
        "\n",
        "    def dfs_util(self, v, visited, path, goal):\n",
        "        visited.add(v)\n",
        "        path.append(v)\n",
        "        if v == goal:\n",
        "            return True\n",
        "        for neighbour, _ in self.graph[v]:\n",
        "            if neighbour not in visited:\n",
        "                if self.dfs_util(neighbour, visited, path, goal):\n",
        "                    return True\n",
        "        path.pop()\n",
        "        return False\n",
        "\n",
        "    def dfs(self, start, goal):\n",
        "        visited = set()\n",
        "        path = []\n",
        "        self.dfs_util(start, visited, path, goal)\n",
        "        return path\n",
        "\n",
        "    def calculate_distance(self, path):\n",
        "        distance = 0\n",
        "        for i in range(len(path) - 1):\n",
        "            for v, w in self.graph[path[i]]:\n",
        "                if v == path[i + 1]:\n",
        "                    distance += w\n",
        "                    break  # Parar o loop quando encontrada a aresta\n",
        "        return distance if distance > 0 else \"Não foi possível encontrar um caminho válido\"\n",
        "\n",
        "if __name__ == \"__main__\":\n",
        "    g = Graph()\n",
        "\n",
        "    g.add_edge(\"Piracicaba\", \"Americana\", 30)\n",
        "    g.add_edge(\"Piracicaba\", \"Capivari\", 32)\n",
        "    g.add_edge(\"Piracicaba\", \"Tiete\", 35)\n",
        "    g.add_edge(\"Americana\", \"Sumaré\", 18)\n",
        "    g.add_edge(\"Sumaré\", \"Campinas\", 23)\n",
        "    g.add_edge(\"Campinas\", \"Indaiatuba\", 20)\n",
        "    g.add_edge(\"Indaiatuba\", \"Salto\", 20)\n",
        "    g.add_edge(\"Salto\", \"Itu\", 10)\n",
        "    g.add_edge(\"Itu\", \"Sorocaba\", 8)\n",
        "    g.add_edge(\"Sorocaba\", \"Tiete\", 30)\n",
        "    g.add_edge(\"Tiete\", \"Porto Feliz\", 30)\n",
        "    g.add_edge(\"Tiete\", \"Tatui\", 25)\n",
        "    g.add_edge(\"Tatui\", \"Boituva\", 17)\n",
        "\n",
        "    origem = input(\"Digite a cidade de origem: \").strip()\n",
        "    destino = input(\"Digite a cidade de destino: \").strip()\n",
        "    algoritmo = input(\"Escolha o algoritmo de busca (BFS ou DFS): \").strip().lower()\n",
        "\n",
        "    if algoritmo == \"bfs\":\n",
        "        path = g.bfs(origem, destino)\n",
        "    elif algoritmo == \"dfs\":\n",
        "        path = g.dfs(origem, destino)\n",
        "    else:\n",
        "        print(\"Algoritmo de busca inválido. Por favor, escolha entre BFS ou DFS.\")\n",
        "        exit(1)\n",
        "\n",
        "    if path:\n",
        "        print(\"Caminho encontrado:\", \" -> \".join(path))\n",
        "        print(\"Distância total percorrida:\", g.calculate_distance(path))\n",
        "    else:\n",
        "        print(\"Não foi possível encontrar um caminho de {} até {}\".format(origem, destino))\n"
      ]
    }
  ]
}
